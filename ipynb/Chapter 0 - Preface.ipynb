{
 "cells": [
  {
   "cell_type": "markdown",
   "metadata": {},
   "source": [
    "# Decision Models for Data Science\n",
    "\n",
    "by Ryan J. O'Neil\n",
    "\n",
    "## Preface\n",
    "\n",
    "TODO:\n",
    "\n",
    "Purpose of this book\n",
    "\n",
    "Who is this book for?\n",
    "\n",
    "How to use this book\n",
    "\n",
    "* Vagrant\n",
    "* Python 3\n",
    "* IPython Notebook\n",
    "* Data sets and example code\n",
    "\n",
    "Outline of contents\n",
    "\n",
    "Conventions\n",
    "\n",
    "GitHub repository and contact information"
   ]
  },
  {
   "cell_type": "code",
   "execution_count": null,
   "metadata": {
    "collapsed": false
   },
   "outputs": [],
   "source": []
  }
 ],
 "metadata": {
  "kernelspec": {
   "display_name": "Python 3",
   "language": "python",
   "name": "python3"
  },
  "language_info": {
   "codemirror_mode": {
    "name": "ipython",
    "version": 3
   },
   "file_extension": ".py",
   "mimetype": "text/x-python",
   "name": "python",
   "nbconvert_exporter": "python",
   "pygments_lexer": "ipython3",
   "version": "3.4.2"
  }
 },
 "nbformat": 4,
 "nbformat_minor": 0
}
