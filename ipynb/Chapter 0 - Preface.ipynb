{
 "metadata": {
  "name": ""
 },
 "nbformat": 3,
 "nbformat_minor": 0,
 "worksheets": [
  {
   "cells": [
    {
     "cell_type": "markdown",
     "metadata": {},
     "source": [
      "# Optimization Models for Hackers\n",
      "\n",
      "by Ryan J. O'Neil\n",
      "\n",
      "## Preface\n",
      "\n",
      "TODO\n",
      "\n",
      "Purpose of this book\n",
      "\n",
      "Who is this book for?\n",
      "\n",
      "How to use this book\n",
      "\n",
      "* Vagrant\n",
      "* Python 3\n",
      "* IPython Notebook\n",
      "* Data sets and example code\n",
      "\n",
      "Outline of contents\n",
      "\n",
      "Conventions\n",
      "\n",
      "GitHub repository and contact information"
     ]
    },
    {
     "cell_type": "code",
     "collapsed": false,
     "input": [],
     "language": "python",
     "metadata": {},
     "outputs": []
    }
   ],
   "metadata": {}
  }
 ]
}