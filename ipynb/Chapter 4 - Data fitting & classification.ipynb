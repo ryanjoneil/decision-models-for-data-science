{
 "metadata": {
  "name": ""
 },
 "nbformat": 3,
 "nbformat_minor": 0,
 "worksheets": [
  {
   "cells": [
    {
     "cell_type": "markdown",
     "metadata": {},
     "source": [
      "## Chapter 4. Data fitting & classification\n",
      "\n",
      "### 2.1. Linear data fitting\n",
      "\n",
      "### 2.2. Linear classification\n",
      "\n",
      "### 2.3. Case study: Time series analysis\n",
      "\n",
      "#### Problem statement & data\n",
      "\n",
      "#### Model construction\n",
      "\n",
      "#### Interpreting the output\n",
      "\n",
      "### References"
     ]
    },
    {
     "cell_type": "code",
     "collapsed": false,
     "input": [],
     "language": "python",
     "metadata": {},
     "outputs": []
    }
   ],
   "metadata": {}
  }
 ]
}