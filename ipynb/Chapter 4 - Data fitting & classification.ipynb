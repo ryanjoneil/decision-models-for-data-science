{
 "cells": [
  {
   "cell_type": "markdown",
   "metadata": {},
   "source": [
    "## Chapter 4. Data fitting & classification\n",
    "\n",
    "### 2.1. Linear data fitting\n",
    "\n",
    "### 2.2. Linear classification\n",
    "\n",
    "### 2.3. Case study: Time series analysis\n",
    "\n",
    "#### Problem statement & data\n",
    "\n",
    "#### Model construction\n",
    "\n",
    "#### Interpreting the output\n",
    "\n",
    "### References"
   ]
  },
  {
   "cell_type": "code",
   "execution_count": null,
   "metadata": {
    "collapsed": false
   },
   "outputs": [],
   "source": []
  }
 ],
 "metadata": {
  "kernelspec": {
   "display_name": "Python 3",
   "language": "python",
   "name": "python3"
  },
  "language_info": {
   "codemirror_mode": {
    "name": "ipython",
    "version": 3
   },
   "file_extension": ".py",
   "mimetype": "text/x-python",
   "name": "python",
   "nbconvert_exporter": "python",
   "pygments_lexer": "ipython3",
   "version": "3.4.0"
  }
 },
 "nbformat": 4,
 "nbformat_minor": 0
}
