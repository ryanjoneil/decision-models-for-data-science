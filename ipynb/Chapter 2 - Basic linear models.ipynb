{
 "metadata": {
  "name": ""
 },
 "nbformat": 3,
 "nbformat_minor": 0,
 "worksheets": [
  {
   "cells": [
    {
     "cell_type": "markdown",
     "metadata": {},
     "source": [
      "## Chapter 2. Basic linear models\n",
      "\n",
      "### 2.1. Putting it all together\n",
      "\n",
      "In this chapter we demonstrate how to formulate and solve the complete scheduling problem for next Monday. It will help to first give the model in its full mathematical notation. Recall that our model consists of three major components: decision variables, an objective function of those variables, and a set of constraints relating and limiting the activities prescribed by the variables.\n",
      "\n",
      "$$\\max z = 1.5 x_s + x_w + 2 x_l$$\n",
      "$$x_s + x_w + x_l = 24$$\n",
      "$$10 \\le x_w \\le 24$$\n",
      "$$7 \\le x_s \\le 24$$\n",
      "$$0 \\le x_l \\le 24$$\n",
      "\n",
      "This is nothing more than a consolidated form of the equations and inequalities we prescribed in the last chapter. We have three variables, corresponding to the amount of time we sleep, work, and play during the course of a day. Each activity has a different per-hour payoff, or _utility_. We maximize the total utility of our schedule such that our schedule comprises exactly 24 hours, and we respect certain minimum hours of activity.\n",
      "\n",
      "The resulting formulation is a very simple example of a _linear model_. In much of the literature, this is referred to as a _linear program_, but the term _program_ has become a confusing historical anachronism which we shall avoid. The important part is not its name but its structure. Any mathematical model that exhibits the same set of certain characteristics will also be a linear model. So let's state in high-level terms what those characteristics are.\n",
      "\n",
      "* A finite set of variables that take real values. This means that we have a known number of decision variables that are _continuous_. That is, they can take values over some range and anywhere in between. We can sleep for 7 hours, 8 hours, 8.5 hours, 8.25 hours, and so on. Any division of that time is possible. Generally, we'll assume that our decision variables are nonnegative. In specific cases we may also state that they are _unrestricted in sign_ (urs).\n",
      "* An objective function which is some _linear combination_ of these variables. The function can either minimize or maximize, and it need not include every variable. This translates to the sum of each variable and a known coefficient. It can also be thought of as the _dot product_ of a real-valued vector and our vector of decision variables.\n",
      "* A set of constraints which are linear equalities or inequalities of the decision variables. These constraints can take any of the three forms $=$, $\\le$, or $\\ge$ which we'll see later are equivalent.\n",
      "\n",
      "These characteristics combine to give us a general form for linear models. Any linear optimization problem can be stated mathematically with the following structure, where $c$ and $b$ are known vectors of reals, $x$ is a vector of decision variables, and $A$ is a known matrix of reals.\n",
      "\n",
      "$$\\max c^\\intercal x$$\n",
      "$$A x = b$$\n",
      "$$x \\ge 0$$\n",
      "\n",
      "We won't worry about the particular dimensions of this at the moment.\n",
      "\n",
      "TODO:\n",
      "\n",
      "why do we call this linear?\n",
      "\n",
      "Representing Ax <= b and Ax >= b as Ax = b\n",
      "\n",
      "\n",
      "#### Introducing PuLP"
     ]
    },
    {
     "cell_type": "code",
     "collapsed": false,
     "input": [
      "import pulp\n",
      "\n",
      "schedule = pulp.LpProblem('Schedule for next Monday', pulp.LpMaximize)\n",
      "\n",
      "# Define a decision variable for each activity.\n",
      "sleep = pulp.LpVariable('sleep', 7, 24)\n",
      "work = pulp.LpVariable('work', 10, 24)\n",
      "leisure = pulp.LpVariable('leisure', 0, 24)\n",
      "\n",
      "# Our objective is to maximize happiness.\n",
      "happiness = 1.5*sleep + work + 2*leisure\n",
      "schedule.setObjective(happiness)\n",
      "\n",
      "# There are only 24 hours in next Monday.\n",
      "schedule += sleep + work + leisure == 24\n",
      "\n",
      "# Look for the best solution.\n",
      "status = schedule.solve()\n",
      "if status == pulp.LpStatusOptimal:\n",
      "    print('Optimal schedule:')\n",
      "    print('    happiness =', pulp.value(happiness))\n",
      "    print('    work      =', pulp.value(work))\n",
      "    print('    sleep     =', pulp.value(sleep))\n",
      "    print('    leisure   =', pulp.value(leisure))"
     ],
     "language": "python",
     "metadata": {},
     "outputs": [
      {
       "output_type": "stream",
       "stream": "stdout",
       "text": [
        "Optimal schedule:\n",
        "    happiness = 34.5\n",
        "    work      = 10.0\n",
        "    sleep     = 7.0\n",
        "    leisure   = 7.0\n"
       ]
      }
     ],
     "prompt_number": 1
    },
    {
     "cell_type": "markdown",
     "metadata": {},
     "source": [
      "\"Vector\" representation of the same problem:"
     ]
    },
    {
     "cell_type": "code",
     "collapsed": false,
     "input": [
      "def schedule(activities, required_hours, happiness_per_hour):\n",
      "    # The structure of our problem is the same regardless of activities.\n",
      "    prob = pulp.LpProblem('Schedule problem', pulp.LpMaximize)\n",
      "    \n",
      "    # Define a decision variable for each activity.\n",
      "    x = []\n",
      "    for a, lb in zip(activities, required_hours):\n",
      "        x.append(pulp.LpVariable(a, lb, 24))\n",
      "    \n",
      "    # Our objective is to maximize happiness.\n",
      "    happiness = pulp.lpDot(happiness_per_hour, x)\n",
      "    prob.setObjective(happiness)\n",
      "    \n",
      "    # There are only 24 hours in next Monday.\n",
      "    prob += pulp.lpSum(x) == 24\n",
      "    \n",
      "    # Look for the best solution. If we don't find it, raise an error.\n",
      "    assert prob.solve() == pulp.LpStatusOptimal\n",
      "    return pulp.value(happiness), [(xa.name, pulp.value(xa)) for xa in x]\n",
      "\n",
      "# Parameters of the problem are all defined here.\n",
      "schedule(\n",
      "    ['sleep', 'work', 'leisure'], \n",
      "    [7, 10, 0], \n",
      "    [1.5, 1, 2]\n",
      ")"
     ],
     "language": "python",
     "metadata": {},
     "outputs": [
      {
       "metadata": {},
       "output_type": "pyout",
       "prompt_number": 11,
       "text": [
        "(34.5, [('sleep', 7.0), ('work', 10.0), ('leisure', 7.0)])"
       ]
      }
     ],
     "prompt_number": 11
    },
    {
     "cell_type": "markdown",
     "metadata": {},
     "source": [
      "Add an extra activity.\n"
     ]
    },
    {
     "cell_type": "code",
     "collapsed": false,
     "input": [
      "schedule(\n",
      "    ['sleep', 'work', 'leisure', 'chores'],\n",
      "    [7, 10, 0, 1], \n",
      "    [1.5, 1, 2, -3]\n",
      ")"
     ],
     "language": "python",
     "metadata": {},
     "outputs": [
      {
       "metadata": {},
       "output_type": "pyout",
       "prompt_number": 12,
       "text": [
        "(29.5, [('sleep', 7.0), ('work', 10.0), ('leisure', 6.0), ('chores', 1.0)])"
       ]
      }
     ],
     "prompt_number": 12
    },
    {
     "cell_type": "markdown",
     "metadata": {},
     "source": [
      "### 2.2. Infeasibility & unboundedness\n",
      "\n",
      "Explain optimal vs infeasible vs unbounded. "
     ]
    },
    {
     "cell_type": "code",
     "collapsed": false,
     "input": [
      "try:\n",
      "    schedule(\n",
      "        ['sleep', 'work', 'leisure', 'chores'],\n",
      "        [10, 12, 3, 2], \n",
      "        [1.5, 1, 2, -3]\n",
      "    )\n",
      "except AssertionError:\n",
      "    print('Optimal schedule not found.')"
     ],
     "language": "python",
     "metadata": {},
     "outputs": [
      {
       "output_type": "stream",
       "stream": "stdout",
       "text": [
        "Optimal schedule not found.\n"
       ]
      }
     ],
     "prompt_number": 13
    },
    {
     "cell_type": "code",
     "collapsed": false,
     "input": [
      "infeasible_prob = pulp.LpProblem('Infeasible problem')\n",
      "\n",
      "x1 = pulp.LpVariable('x1', 0, 1)\n",
      "x2 = pulp.LpVariable('x2', 0, 1)\n",
      "    \n",
      "infeasible_prob += x1 + x2 >= 3\n",
      "\n",
      "infeasible_prob.solve() == pulp.LpStatusInfeasible"
     ],
     "language": "python",
     "metadata": {},
     "outputs": [
      {
       "metadata": {},
       "output_type": "pyout",
       "prompt_number": 14,
       "text": [
        "True"
       ]
      }
     ],
     "prompt_number": 14
    },
    {
     "cell_type": "code",
     "collapsed": false,
     "input": [
      "unbounded_prob = pulp.LpProblem('Unbounded problem', pulp.LpMaximize)\n",
      "\n",
      "x1 = pulp.LpVariable('x1', lowBound=0)\n",
      "x2 = pulp.LpVariable('x2', lowBound=0)\n",
      "\n",
      "unbounded_prob.setObjective(x1 + x2)\n",
      "unbounded_prob += x1 - x2 <= 1\n",
      "\n",
      "unbounded_prob.solve() == pulp.LpStatusUnbounded"
     ],
     "language": "python",
     "metadata": {},
     "outputs": [
      {
       "metadata": {},
       "output_type": "pyout",
       "prompt_number": 15,
       "text": [
        "True"
       ]
      }
     ],
     "prompt_number": 15
    },
    {
     "cell_type": "markdown",
     "metadata": {},
     "source": [
      "### 2.3. Linear models with multiple optima"
     ]
    },
    {
     "cell_type": "code",
     "collapsed": false,
     "input": [
      "multi_prob = pulp.LpProblem('Problem with multiple optimal solutions')\n",
      "\n",
      "x = pulp.LpVariable('x', 0)\n",
      "y = pulp.LpVariable('y', 0)\n",
      "\n",
      "z = x + y\n",
      "multi_prob.setObjective(z)\n",
      "multi_prob += x + 3*y >= 3\n",
      "multi_prob += x + y >= 2\n",
      "multi_prob += 3*x + y >= 3\n",
      "\n",
      "assert multi_prob.solve() == pulp.LpStatusOptimal\n",
      "print('x =', pulp.value(x))\n",
      "print('y =', pulp.value(y))\n",
      "print('z =', pulp.value(z))"
     ],
     "language": "python",
     "metadata": {},
     "outputs": [
      {
       "output_type": "stream",
       "stream": "stdout",
       "text": [
        "x = 1.5\n",
        "y = 0.5\n",
        "z = 2.0\n"
       ]
      }
     ],
     "prompt_number": 16
    },
    {
     "cell_type": "code",
     "collapsed": false,
     "input": [
      "multi_prob += x == 1\n",
      "\n",
      "assert multi_prob.solve() == pulp.LpStatusOptimal\n",
      "print('x =', pulp.value(x))\n",
      "print('y =', pulp.value(y))\n",
      "print('z =', pulp.value(z))"
     ],
     "language": "python",
     "metadata": {},
     "outputs": [
      {
       "output_type": "stream",
       "stream": "stdout",
       "text": [
        "x = 1.0\n",
        "y = 1.0\n",
        "z = 2.0\n"
       ]
      }
     ],
     "prompt_number": 17
    },
    {
     "cell_type": "markdown",
     "metadata": {},
     "source": [
      "#### The geometry of simple linear models\n",
      "\n",
      "$$x - 2 y \\le 3$$\n",
      "$$0 \\le x \\le 3$$\n",
      "$$0 \\le y$$"
     ]
    },
    {
     "cell_type": "code",
     "collapsed": false,
     "input": [
      "%matplotlib inline\n",
      "\n",
      "from matplotlib import patches, pyplot\n",
      "from matplotlib.path import Path\n",
      "\n",
      "verts = [\n",
      "    (0., 0.), # left, bottom\n",
      "    (0., 2.), # left, top\n",
      "    (2., 2.), # right, top\n",
      "    (3., 3.), # right, bottom\n",
      "    (3., 0.), # ignored\n",
      "]\n",
      "\n",
      "codes = [\n",
      "    Path.MOVETO,\n",
      "    Path.LINETO,\n",
      "    Path.LINETO,\n",
      "    Path.LINETO,\n",
      "    Path.CLOSEPOLY,\n",
      "]\n",
      "\n",
      "path = Path(verts, codes)\n",
      "\n",
      "fig = pyplot.figure()\n",
      "ax = fig.add_subplot(111)\n",
      "patch = patches.PathPatch(path, facecolor='orange', lw=1)\n",
      "ax.add_patch(patch)\n",
      "ax.set_xlim(0, 4)\n",
      "ax.set_ylim(0, 4)\n",
      "pyplot.show()\n"
     ],
     "language": "python",
     "metadata": {},
     "outputs": [
      {
       "metadata": {},
       "output_type": "display_data",
       "png": "[encoded data removed]",
       "text": [
        "<matplotlib.figure.Figure at 0x7f4bbdc3b278>"
       ]
      }
     ],
     "prompt_number": 24
    },
    {
     "cell_type": "markdown",
     "metadata": {},
     "source": [
      "### 2.4 Solving linear models\n",
      "\n",
      "#### Simplex in brief\n",
      "\n",
      "#### A few notes about solvers\n",
      "\n",
      "### References"
     ]
    },
    {
     "cell_type": "code",
     "collapsed": false,
     "input": [],
     "language": "python",
     "metadata": {},
     "outputs": [],
     "prompt_number": 17
    }
   ],
   "metadata": {}
  }
 ]
}