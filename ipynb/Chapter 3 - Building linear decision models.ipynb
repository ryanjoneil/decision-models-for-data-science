{
 "metadata": {
  "name": ""
 },
 "nbformat": 3,
 "nbformat_minor": 0,
 "worksheets": [
  {
   "cells": [
    {
     "cell_type": "markdown",
     "metadata": {},
     "source": [
      "## Chapter 3. Building linear decision models\n",
      "\n",
      "### 3.1. Example models\n",
      "\n",
      "#### Diet models\n",
      "\n",
      "#### Blending models\n",
      "\n",
      "#### Scheduling models\n",
      "\n",
      "### 3.2. Case study: Production planning\n",
      "\n",
      "#### Problem statement\n",
      "\n",
      "#### Model formulation\n",
      "\n",
      "#### From data to code\n",
      "\n",
      "#### Solving the model\n",
      "\n",
      "### References"
     ]
    },
    {
     "cell_type": "code",
     "collapsed": false,
     "input": [],
     "language": "python",
     "metadata": {},
     "outputs": []
    }
   ],
   "metadata": {}
  }
 ]
}