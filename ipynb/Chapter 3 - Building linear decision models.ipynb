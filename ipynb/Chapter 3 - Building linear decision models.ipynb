{
 "cells": [
  {
   "cell_type": "markdown",
   "metadata": {},
   "source": [
    "## Chapter 3. Building linear decision models\n",
    "\n",
    "### 3.1. Example models\n",
    "\n",
    "#### Diet models\n",
    "\n",
    "#### Blending models\n",
    "\n",
    "#### Scheduling models\n",
    "\n",
    "### 3.2. Case study: Production planning\n",
    "\n",
    "#### Problem statement\n",
    "\n",
    "#### Model formulation\n",
    "\n",
    "#### From data to code\n",
    "\n",
    "#### Solving the model\n",
    "\n",
    "### References"
   ]
  },
  {
   "cell_type": "code",
   "execution_count": null,
   "metadata": {
    "collapsed": false
   },
   "outputs": [],
   "source": []
  }
 ],
 "metadata": {
  "kernelspec": {
   "display_name": "Python 3",
   "language": "python",
   "name": "python3"
  },
  "language_info": {
   "codemirror_mode": {
    "name": "ipython",
    "version": 3
   },
   "file_extension": ".py",
   "mimetype": "text/x-python",
   "name": "python",
   "nbconvert_exporter": "python",
   "pygments_lexer": "ipython3",
   "version": "3.4.0"
  }
 },
 "nbformat": 4,
 "nbformat_minor": 0
}
